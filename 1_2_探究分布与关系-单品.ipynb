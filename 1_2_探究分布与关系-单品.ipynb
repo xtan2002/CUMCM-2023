{
 "cells": [
  {
   "cell_type": "code",
   "execution_count": 4,
   "metadata": {},
   "outputs": [],
   "source": [
    "import os\n",
    "import pandas as pd\n",
    "import matplotlib.pyplot as plt # 基础绘图库（什么都能画，但可能慢、复杂）\n",
    "import seaborn as sns # 数据可视化专用库（专门用来快速画数据图）\n",
    "\n",
    "\n",
    "# 中文字体宋体，英文字体新罗马\n",
    "plt.rcParams['font.sans-serif'] = ['SimHei']\n",
    "plt.rcParams['font.serif'] = ['Times New Roman']\n",
    "# 字体大小\n",
    "plt.rcParams['font.size'] = 12  \n",
    "# 正常显示负号\n",
    "plt.rcParams['axes.unicode_minus'] = False"
   ]
  },
  {
   "cell_type": "code",
   "execution_count": null,
   "metadata": {},
   "outputs": [],
   "source": [
    "# 指定要获取文件名的文件夹路径\n",
    "folder_path = \"中间数据集\\\\多表_按单品\"\n",
    "\n",
    "# 使用os.listdir()获取文件夹内所有文件和文件夹的列表\n",
    "entries = os.listdir(folder_path)\n",
    "file_names = []\n",
    "\n",
    "# 遍历文件夹的所有条目\n",
    "for entry in entries:\n",
    "    file_names.append(entry)"
   ]
  },
  {
   "cell_type": "code",
   "execution_count": 5,
   "metadata": {},
   "outputs": [],
   "source": [
    "def data_get(filename):\n",
    "    df = pd.read_csv(\"中间数据集\\\\多表_按单品\\\\\" + filename)\n",
    "    df[\"日期\"] = pd.to_datetime(df[\"日期\"])\n",
    "    df.set_index(\"日期\", inplace=True)\n",
    "    df_finished = df.resample(\"M\").sum()\n",
    "    return df_finished\n",
    "\n",
    "def hist(df, ax, i, j, filename):\n",
    "    sns.histplot(data=df, x=\"销量(千克)\", kde=True, ax=ax[i][j])\n",
    "    ax[i][j].set_title(filename + '销量分布', fontsize=18)"
   ]
  },
  {
   "cell_type": "code",
   "execution_count": 6,
   "metadata": {},
   "outputs": [],
   "source": [
    "for file_name in file_names:\n",
    "    df_finished = data_get(file_name)\n",
    "    "
   ]
  }
 ],
 "metadata": {
  "kernelspec": {
   "display_name": "py_ds",
   "language": "python",
   "name": "python3"
  },
  "language_info": {
   "codemirror_mode": {
    "name": "ipython",
    "version": 3
   },
   "file_extension": ".py",
   "mimetype": "text/x-python",
   "name": "python",
   "nbconvert_exporter": "python",
   "pygments_lexer": "ipython3",
   "version": "3.11.7"
  }
 },
 "nbformat": 4,
 "nbformat_minor": 2
}
