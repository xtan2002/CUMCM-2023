{
 "cells": [
  {
   "cell_type": "code",
   "execution_count": 1,
   "metadata": {},
   "outputs": [],
   "source": [
    "import os\n",
    "import pandas as pd"
   ]
  },
  {
   "cell_type": "code",
   "execution_count": 2,
   "metadata": {},
   "outputs": [],
   "source": [
    "def check_date_range_in_files(folder_path, start_date, end_date):\n",
    "    matching_files = []\n",
    "    \n",
    "    # 遍历文件夹中的所有文件\n",
    "    for file_name in os.listdir(folder_path):\n",
    "        file_path = os.path.join(folder_path, file_name)\n",
    "        \n",
    "        # 确保文件是CSV或Excel文件，可以根据需要添加其他格式\n",
    "        if file_path.endswith('.csv') or file_path.endswith('.xlsx'):\n",
    "            try:\n",
    "                # 根据文件类型选择合适的读取方式\n",
    "                if file_path.endswith('.csv'):\n",
    "                    df = pd.read_csv(file_path)\n",
    "                elif file_path.endswith('.xlsx'):\n",
    "                    df = pd.read_excel(file_path)\n",
    "                \n",
    "                # 确保数据集中有\"date\"列，假设日期列名称为'date'\n",
    "                if '日期' in df.columns:\n",
    "                    # 将date列转换为datetime格式\n",
    "                    df['日期'] = pd.to_datetime(df['日期'], errors='coerce')\n",
    "                    \n",
    "                    # 检查日期范围是否包含指定的日期\n",
    "                    if df[(df['日期'] >= start_date) & (df['日期'] <= end_date)].shape[0] > 0:\n",
    "                        matching_files.append(file_name)\n",
    "            \n",
    "            except Exception as e:\n",
    "                print(f\"Error processing file {file_name}: {e}\")\n",
    "    \n",
    "    return matching_files"
   ]
  },
  {
   "cell_type": "code",
   "execution_count": 3,
   "metadata": {},
   "outputs": [
    {
     "data": {
      "text/plain": [
       "49"
      ]
     },
     "execution_count": 3,
     "metadata": {},
     "output_type": "execute_result"
    }
   ],
   "source": [
    "# 查找匹配的文件\n",
    "matching_files = check_date_range_in_files(folder_path='中间数据集\\\\多表_按单品', \n",
    "                                        start_date=pd.to_datetime('2023-06-24'), \n",
    "                                        end_date=pd.to_datetime('2023-06-30'))\n",
    "len(matching_files)"
   ]
  },
  {
   "cell_type": "code",
   "execution_count": 4,
   "metadata": {},
   "outputs": [
    {
     "name": "stdout",
     "output_type": "stream",
     "text": [
      "['七彩椒(2).csv', '上海青.csv', '云南油麦菜(份).csv', '云南油麦菜.csv', '云南生菜(份).csv', '云南生菜.csv', '净藕(1).csv', '双孢菇(盒).csv', '圆茄子(2).csv', '外地茼蒿.csv', '奶白菜.csv', '姜蒜小米椒组合装(小份).csv', '娃娃菜.csv', '小皱皮(份).csv', '小米椒(份).csv', '小青菜(1).csv', '木耳菜(份).csv', '木耳菜.csv', '枝江青梗散花.csv', '洪湖藕带.csv', '海鲜菇(包).csv', '白玉菇(袋).csv', '竹叶菜.csv', '紫茄子(1).csv', '紫茄子(2).csv', '红椒(2).csv', '红莲藕带.csv', '红薯尖.csv', '芜湖青椒(1).csv', '苋菜.csv', '菜心.csv', '菠菜(份).csv', '菠菜.csv', '菱角.csv', '虫草花(份).csv', '螺丝椒(份).csv', '螺丝椒.csv', '蟹味菇与白玉菇双拼(盒).csv', '西兰花.csv', '西峡花菇(1).csv', '野生粉藕.csv', '金针菇(盒).csv', '长线茄.csv', '青红杭椒组合装(份).csv', '青线椒(份).csv', '青茄子(1).csv', '高瓜(1).csv', '高瓜(2).csv', '鲜木耳(份).csv']\n"
     ]
    }
   ],
   "source": [
    "# 输出包含所需日期的数据集文件名\n",
    "print(matching_files)"
   ]
  }
 ],
 "metadata": {
  "kernelspec": {
   "display_name": "py_ds",
   "language": "python",
   "name": "python3"
  },
  "language_info": {
   "codemirror_mode": {
    "name": "ipython",
    "version": 3
   },
   "file_extension": ".py",
   "mimetype": "text/x-python",
   "name": "python",
   "nbconvert_exporter": "python",
   "pygments_lexer": "ipython3",
   "version": "3.11.7"
  }
 },
 "nbformat": 4,
 "nbformat_minor": 2
}
